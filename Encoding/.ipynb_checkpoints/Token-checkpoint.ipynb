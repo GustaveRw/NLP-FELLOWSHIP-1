{
 "cells": [
  {
   "cell_type": "code",
   "execution_count": null,
   "id": "955711f4",
   "metadata": {},
   "outputs": [],
   "source": [
    "!pip install nltk\n",
    "!pip install spacy"
   ]
  },
  {
   "cell_type": "code",
   "execution_count": 2,
   "id": "4693d5f0",
   "metadata": {},
   "outputs": [],
   "source": [
    "import nltk\n",
    "#import spacy"
   ]
  },
  {
   "cell_type": "markdown",
   "id": "f229b832",
   "metadata": {},
   "source": [
    "# Tokenisation of sentences from corpus"
   ]
  },
  {
   "cell_type": "code",
   "execution_count": 55,
   "id": "426ad2b2",
   "metadata": {},
   "outputs": [],
   "source": [
    "doc = \"\"\"\n",
    "Dr.Rubingisa said that the City of Kigali celebrates this day, as they encourage everyone to participate in maintaining what has been achieved in terms of cleanliness and climate conservation.\n",
    "\n",
    "He said that plans to expand the car-free zone are ongoing and that it will be finalised by December, these will still include entertainment, be climate friendly and for economic reasons.\n",
    "\n",
    "“We celebrate this day as it is more of promoting both local and international community interest in global urbanisation and cooperation among countries, as well as organisations that have shown interest in transforming cities into reliable and inclusive cities.”\n",
    "\n",
    "\"\"\""
   ]
  },
  {
   "cell_type": "code",
   "execution_count": null,
   "id": "9869be44",
   "metadata": {},
   "outputs": [],
   "source": []
  },
  {
   "cell_type": "code",
   "execution_count": 15,
   "id": "5c3d7353",
   "metadata": {},
   "outputs": [],
   "source": [
    "doc_2 = \"The NLP fellowship is about conversational chatbot and machine translation. It is happening at Huza Labs Remera.\""
   ]
  },
  {
   "cell_type": "code",
   "execution_count": 53,
   "id": "4e3f7414",
   "metadata": {},
   "outputs": [],
   "source": [
    "#Sentence Tokenisation\n",
    "nltk_tokens = nltk.sent_tokenize(doc_2)"
   ]
  },
  {
   "cell_type": "code",
   "execution_count": 54,
   "id": "5b32b3eb",
   "metadata": {},
   "outputs": [
    {
     "name": "stdout",
     "output_type": "stream",
     "text": [
      "['The NLP fellowship is about conversational chatbot and machine translation.', 'It is happening at Huza Labs Remera.']\n"
     ]
    }
   ],
   "source": [
    "print(nltk_tokens)"
   ]
  },
  {
   "cell_type": "code",
   "execution_count": 24,
   "id": "de03754b",
   "metadata": {},
   "outputs": [],
   "source": [
    "word_token = nltk.word_tokenize(doc)"
   ]
  },
  {
   "cell_type": "code",
   "execution_count": 25,
   "id": "bc857c01",
   "metadata": {
    "scrolled": true
   },
   "outputs": [
    {
     "name": "stdout",
     "output_type": "stream",
     "text": [
      "['Dr.', 'Rubingisa', 'said', 'that', 'the', 'City', 'of', 'Kigali', 'celebrates', 'this', 'day', ',', 'as', 'they', 'encourage', 'everyone', 'to', 'participate', 'in', 'maintaining', 'what', 'has', 'been', 'achieved', 'in', 'terms', 'of', 'cleanliness', 'and', 'climate', 'conservation', '.', 'He', 'said', 'that', 'plans', 'to', 'expand', 'the', 'car-free', 'zone', 'are', 'ongoing', 'and', 'that', 'it', 'will', 'be', 'finalised', 'by', 'December', ',', 'these', 'will', 'still', 'include', 'entertainment', ',', 'be', 'climate', 'friendly', 'and', 'for', 'economic', 'reasons', '.', '“', 'We', 'celebrate', 'this', 'day', 'as', 'it', 'is', 'more', 'of', 'promoting', 'both', 'local', 'and', 'international', 'community', 'interest', 'in', 'global', 'urbanisation', 'and', 'cooperation', 'among', 'countries', ',', 'as', 'well', 'as', 'organisations', 'that', 'have', 'shown', 'interest', 'in', 'transforming', 'cities', 'into', 'reliable', 'and', 'inclusive', 'cities', '.', '”']\n"
     ]
    }
   ],
   "source": [
    "print(word_token)"
   ]
  },
  {
   "cell_type": "code",
   "execution_count": 29,
   "id": "e1da7fcf",
   "metadata": {},
   "outputs": [
    {
     "data": {
      "text/plain": [
       "109"
      ]
     },
     "execution_count": 29,
     "metadata": {},
     "output_type": "execute_result"
    }
   ],
   "source": [
    "#Count all words\n",
    "len(word_token)"
   ]
  },
  {
   "cell_type": "code",
   "execution_count": 40,
   "id": "7a8b47a7",
   "metadata": {},
   "outputs": [
    {
     "name": "stdout",
     "output_type": "stream",
     "text": [
      "[',', 'organisations', 'economic', 'finalised', 'reliable', 'entertainment', 'well', 'cities', 'urbanisation', 'City', 'include', 'in', 'by', 'more', 'and', 'conservation', 'maintaining', 'countries', 'they', 'friendly', 'to', 'of', 'be', 'into', 'said', 'climate', 'reasons', 'are', 'for', 'December', 'celebrates', 'local', 'transforming', 'day', 'has', 'as', 'cleanliness', 'ongoing', 'international', 'is', 'zone', '”', 'global', 'encourage', 'Rubingisa', 'these', 'still', 'expand', 'this', 'among', 'shown', 'everyone', 'promoting', 'inclusive', 'it', 'celebrate', 'the', '.', 'achieved', 'participate', 'cooperation', 'interest', 'have', 'We', 'Kigali', '“', 'that', 'He', 'what', 'car-free', 'plans', 'will', 'both', 'been', 'community', 'Dr.', 'terms']\n"
     ]
    }
   ],
   "source": [
    "#Count all the unique words\n",
    "unique_words = list(set(word_token))\n",
    "print(unique_words)"
   ]
  },
  {
   "cell_type": "code",
   "execution_count": 47,
   "id": "d7e61b87",
   "metadata": {},
   "outputs": [],
   "source": [
    "b_word = {}\n",
    "for word in word_token:\n",
    "    b_word[word] = 0  #dict[key/word] = 0 - frequency"
   ]
  },
  {
   "cell_type": "code",
   "execution_count": 48,
   "id": "61ebf139",
   "metadata": {},
   "outputs": [
    {
     "data": {
      "text/plain": [
       "{'Dr.': 0,\n",
       " 'Rubingisa': 0,\n",
       " 'said': 0,\n",
       " 'that': 0,\n",
       " 'the': 0,\n",
       " 'City': 0,\n",
       " 'of': 0,\n",
       " 'Kigali': 0,\n",
       " 'celebrates': 0,\n",
       " 'this': 0,\n",
       " 'day': 0,\n",
       " ',': 0,\n",
       " 'as': 0,\n",
       " 'they': 0,\n",
       " 'encourage': 0,\n",
       " 'everyone': 0,\n",
       " 'to': 0,\n",
       " 'participate': 0,\n",
       " 'in': 0,\n",
       " 'maintaining': 0,\n",
       " 'what': 0,\n",
       " 'has': 0,\n",
       " 'been': 0,\n",
       " 'achieved': 0,\n",
       " 'terms': 0,\n",
       " 'cleanliness': 0,\n",
       " 'and': 0,\n",
       " 'climate': 0,\n",
       " 'conservation': 0,\n",
       " '.': 0,\n",
       " 'He': 0,\n",
       " 'plans': 0,\n",
       " 'expand': 0,\n",
       " 'car-free': 0,\n",
       " 'zone': 0,\n",
       " 'are': 0,\n",
       " 'ongoing': 0,\n",
       " 'it': 0,\n",
       " 'will': 0,\n",
       " 'be': 0,\n",
       " 'finalised': 0,\n",
       " 'by': 0,\n",
       " 'December': 0,\n",
       " 'these': 0,\n",
       " 'still': 0,\n",
       " 'include': 0,\n",
       " 'entertainment': 0,\n",
       " 'friendly': 0,\n",
       " 'for': 0,\n",
       " 'economic': 0,\n",
       " 'reasons': 0,\n",
       " '“': 0,\n",
       " 'We': 0,\n",
       " 'celebrate': 0,\n",
       " 'is': 0,\n",
       " 'more': 0,\n",
       " 'promoting': 0,\n",
       " 'both': 0,\n",
       " 'local': 0,\n",
       " 'international': 0,\n",
       " 'community': 0,\n",
       " 'interest': 0,\n",
       " 'global': 0,\n",
       " 'urbanisation': 0,\n",
       " 'cooperation': 0,\n",
       " 'among': 0,\n",
       " 'countries': 0,\n",
       " 'well': 0,\n",
       " 'organisations': 0,\n",
       " 'have': 0,\n",
       " 'shown': 0,\n",
       " 'transforming': 0,\n",
       " 'cities': 0,\n",
       " 'into': 0,\n",
       " 'reliable': 0,\n",
       " 'inclusive': 0,\n",
       " '”': 0}"
      ]
     },
     "execution_count": 48,
     "metadata": {},
     "output_type": "execute_result"
    }
   ],
   "source": [
    "b_word"
   ]
  },
  {
   "cell_type": "code",
   "execution_count": 50,
   "id": "c9208d65",
   "metadata": {},
   "outputs": [],
   "source": [
    "for word in word_token:\n",
    "    if word in unique_words:\n",
    "        b_word[word] += 1"
   ]
  },
  {
   "cell_type": "code",
   "execution_count": 52,
   "id": "b731da3e",
   "metadata": {},
   "outputs": [
    {
     "data": {
      "text/plain": [
       "{'Dr.': 1,\n",
       " 'Rubingisa': 1,\n",
       " 'said': 2,\n",
       " 'that': 4,\n",
       " 'the': 2,\n",
       " 'City': 1,\n",
       " 'of': 3,\n",
       " 'Kigali': 1,\n",
       " 'celebrates': 1,\n",
       " 'this': 2,\n",
       " 'day': 2,\n",
       " ',': 4,\n",
       " 'as': 4,\n",
       " 'they': 1,\n",
       " 'encourage': 1,\n",
       " 'everyone': 1,\n",
       " 'to': 2,\n",
       " 'participate': 1,\n",
       " 'in': 4,\n",
       " 'maintaining': 1,\n",
       " 'what': 1,\n",
       " 'has': 1,\n",
       " 'been': 1,\n",
       " 'achieved': 1,\n",
       " 'terms': 1,\n",
       " 'cleanliness': 1,\n",
       " 'and': 6,\n",
       " 'climate': 2,\n",
       " 'conservation': 1,\n",
       " '.': 3,\n",
       " 'He': 1,\n",
       " 'plans': 1,\n",
       " 'expand': 1,\n",
       " 'car-free': 1,\n",
       " 'zone': 1,\n",
       " 'are': 1,\n",
       " 'ongoing': 1,\n",
       " 'it': 2,\n",
       " 'will': 2,\n",
       " 'be': 2,\n",
       " 'finalised': 1,\n",
       " 'by': 1,\n",
       " 'December': 1,\n",
       " 'these': 1,\n",
       " 'still': 1,\n",
       " 'include': 1,\n",
       " 'entertainment': 1,\n",
       " 'friendly': 1,\n",
       " 'for': 1,\n",
       " 'economic': 1,\n",
       " 'reasons': 1,\n",
       " '“': 1,\n",
       " 'We': 1,\n",
       " 'celebrate': 1,\n",
       " 'is': 1,\n",
       " 'more': 1,\n",
       " 'promoting': 1,\n",
       " 'both': 1,\n",
       " 'local': 1,\n",
       " 'international': 1,\n",
       " 'community': 1,\n",
       " 'interest': 2,\n",
       " 'global': 1,\n",
       " 'urbanisation': 1,\n",
       " 'cooperation': 1,\n",
       " 'among': 1,\n",
       " 'countries': 1,\n",
       " 'well': 1,\n",
       " 'organisations': 1,\n",
       " 'have': 1,\n",
       " 'shown': 1,\n",
       " 'transforming': 1,\n",
       " 'cities': 2,\n",
       " 'into': 1,\n",
       " 'reliable': 1,\n",
       " 'inclusive': 1,\n",
       " '”': 1}"
      ]
     },
     "execution_count": 52,
     "metadata": {},
     "output_type": "execute_result"
    }
   ],
   "source": [
    "b_word"
   ]
  },
  {
   "cell_type": "code",
   "execution_count": 35,
   "id": "5a52d493",
   "metadata": {
    "scrolled": false
   },
   "outputs": [
    {
     "data": {
      "text/plain": [
       "[',',\n",
       " 'organisations',\n",
       " 'economic',\n",
       " 'finalised',\n",
       " 'reliable',\n",
       " 'entertainment',\n",
       " 'well',\n",
       " 'cities',\n",
       " 'urbanisation',\n",
       " 'City',\n",
       " 'include',\n",
       " 'in',\n",
       " 'by',\n",
       " 'more',\n",
       " 'and',\n",
       " 'conservation',\n",
       " 'maintaining',\n",
       " 'countries',\n",
       " 'they',\n",
       " 'friendly',\n",
       " 'to',\n",
       " 'of',\n",
       " 'be',\n",
       " 'into',\n",
       " 'said',\n",
       " 'climate',\n",
       " 'reasons',\n",
       " 'are',\n",
       " 'for',\n",
       " 'December',\n",
       " 'celebrates',\n",
       " 'local',\n",
       " 'transforming',\n",
       " 'day',\n",
       " 'has',\n",
       " 'as',\n",
       " 'cleanliness',\n",
       " 'ongoing',\n",
       " 'international',\n",
       " 'is',\n",
       " 'zone',\n",
       " '”',\n",
       " 'global',\n",
       " 'encourage',\n",
       " 'Rubingisa',\n",
       " 'these',\n",
       " 'still',\n",
       " 'expand',\n",
       " 'this',\n",
       " 'among',\n",
       " 'shown',\n",
       " 'everyone',\n",
       " 'promoting',\n",
       " 'inclusive',\n",
       " 'it',\n",
       " 'celebrate',\n",
       " 'the',\n",
       " '.',\n",
       " 'achieved',\n",
       " 'participate',\n",
       " 'cooperation',\n",
       " 'interest',\n",
       " 'have',\n",
       " 'We',\n",
       " 'Kigali',\n",
       " '“',\n",
       " 'that',\n",
       " 'He',\n",
       " 'what',\n",
       " 'car-free',\n",
       " 'plans',\n",
       " 'will',\n",
       " 'both',\n",
       " 'been',\n",
       " 'community',\n",
       " 'Dr.',\n",
       " 'terms']"
      ]
     },
     "execution_count": 35,
     "metadata": {},
     "output_type": "execute_result"
    }
   ],
   "source": [
    "#all the unique words\n",
    "unique_tok"
   ]
  },
  {
   "cell_type": "code",
   "execution_count": null,
   "id": "fe3d8b9a",
   "metadata": {},
   "outputs": [],
   "source": [
    "#Organisation includes Cities\n",
    "      1         10       7"
   ]
  },
  {
   "cell_type": "code",
   "execution_count": 59,
   "id": "f8326f91",
   "metadata": {},
   "outputs": [
    {
     "data": {
      "text/plain": [
       "7"
      ]
     },
     "execution_count": 59,
     "metadata": {},
     "output_type": "execute_result"
    }
   ],
   "source": [
    "unique_words.index('cities')"
   ]
  },
  {
   "cell_type": "code",
   "execution_count": 57,
   "id": "56824f61",
   "metadata": {},
   "outputs": [
    {
     "data": {
      "text/plain": [
       "[',',\n",
       " 'organisations',\n",
       " 'economic',\n",
       " 'finalised',\n",
       " 'reliable',\n",
       " 'entertainment',\n",
       " 'well',\n",
       " 'cities',\n",
       " 'urbanisation',\n",
       " 'City',\n",
       " 'include',\n",
       " 'in',\n",
       " 'by',\n",
       " 'more',\n",
       " 'and',\n",
       " 'conservation',\n",
       " 'maintaining',\n",
       " 'countries',\n",
       " 'they',\n",
       " 'friendly',\n",
       " 'to',\n",
       " 'of',\n",
       " 'be',\n",
       " 'into',\n",
       " 'said',\n",
       " 'climate',\n",
       " 'reasons',\n",
       " 'are',\n",
       " 'for',\n",
       " 'December',\n",
       " 'celebrates',\n",
       " 'local',\n",
       " 'transforming',\n",
       " 'day',\n",
       " 'has',\n",
       " 'as',\n",
       " 'cleanliness',\n",
       " 'ongoing',\n",
       " 'international',\n",
       " 'is',\n",
       " 'zone',\n",
       " '”',\n",
       " 'global',\n",
       " 'encourage',\n",
       " 'Rubingisa',\n",
       " 'these',\n",
       " 'still',\n",
       " 'expand',\n",
       " 'this',\n",
       " 'among',\n",
       " 'shown',\n",
       " 'everyone',\n",
       " 'promoting',\n",
       " 'inclusive',\n",
       " 'it',\n",
       " 'celebrate',\n",
       " 'the',\n",
       " '.',\n",
       " 'achieved',\n",
       " 'participate',\n",
       " 'cooperation',\n",
       " 'interest',\n",
       " 'have',\n",
       " 'We',\n",
       " 'Kigali',\n",
       " '“',\n",
       " 'that',\n",
       " 'He',\n",
       " 'what',\n",
       " 'car-free',\n",
       " 'plans',\n",
       " 'will',\n",
       " 'both',\n",
       " 'been',\n",
       " 'community',\n",
       " 'Dr.',\n",
       " 'terms']"
      ]
     },
     "execution_count": 57,
     "metadata": {},
     "output_type": "execute_result"
    }
   ],
   "source": [
    "unique_words"
   ]
  }
 ],
 "metadata": {
  "kernelspec": {
   "display_name": "Python 3 (ipykernel)",
   "language": "python",
   "name": "python3"
  },
  "language_info": {
   "codemirror_mode": {
    "name": "ipython",
    "version": 3
   },
   "file_extension": ".py",
   "mimetype": "text/x-python",
   "name": "python",
   "nbconvert_exporter": "python",
   "pygments_lexer": "ipython3",
   "version": "3.9.7"
  }
 },
 "nbformat": 4,
 "nbformat_minor": 5
}
