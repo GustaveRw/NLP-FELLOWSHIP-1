{
  "nbformat": 4,
  "nbformat_minor": 0,
  "metadata": {
    "colab": {
      "provenance": [],
      "authorship_tag": "ABX9TyNONJZS9SPkx/VpakDezGul",
      "include_colab_link": true
    },
    "kernelspec": {
      "name": "python3",
      "display_name": "Python 3"
    },
    "language_info": {
      "name": "python"
    },
    "accelerator": "GPU",
    "gpuClass": "standard"
  },
  "cells": [
    {
      "cell_type": "markdown",
      "metadata": {
        "id": "view-in-github",
        "colab_type": "text"
      },
      "source": [
        "<a href=\"https://colab.research.google.com/github/agent87/NLP-FELLOWSHIP/blob/main/WEEK_4/EasyNMT.ipynb\" target=\"_parent\"><img src=\"https://colab.research.google.com/assets/colab-badge.svg\" alt=\"Open In Colab\"/></a>"
      ]
    },
    {
      "cell_type": "code",
      "execution_count": null,
      "metadata": {
        "id": "nTAR5nLcjvmy"
      },
      "outputs": [],
      "source": [
        "!pip install -U easynmt"
      ]
    },
    {
      "cell_type": "code",
      "source": [
        "from easynmt import EasyNMT"
      ],
      "metadata": {
        "id": "93wBWPCgLvhm"
      },
      "execution_count": 25,
      "outputs": []
    },
    {
      "cell_type": "code",
      "source": [
        "model = EasyNMT('opus-mt')"
      ],
      "metadata": {
        "id": "a_TGO4dmLvWG"
      },
      "execution_count": 27,
      "outputs": []
    },
    {
      "cell_type": "code",
      "source": [
        "sentences = [\n",
        "    'Jesus is alive!',\n",
        "    'Hands on projects is our priority',\n",
        "    \"I don't have anything\",\n",
        "    'It is a rainy day',\n",
        "    \"'It is what it is!': Legend Belise once said.\"\n",
        "]"
      ],
      "metadata": {
        "id": "VqZTvuQzLvHU"
      },
      "execution_count": 24,
      "outputs": []
    },
    {
      "cell_type": "code",
      "source": [
        "translations_fr = model.translate(sentences, target_lang='fr')\n",
        "translations_rw = model.translate(sentences, target_lang='rw')"
      ],
      "metadata": {
        "id": "fDTCIQuUNsYV"
      },
      "execution_count": null,
      "outputs": []
    },
    {
      "cell_type": "code",
      "source": [
        "translations_rw"
      ],
      "metadata": {
        "colab": {
          "base_uri": "https://localhost:8080/"
        },
        "id": "__HlfE90OuBI",
        "outputId": "1d4893c8-e42d-4c2e-f2c9-f67a052d96af"
      },
      "execution_count": 13,
      "outputs": [
        {
          "output_type": "execute_result",
          "data": {
            "text/plain": [
              "['Yesu ni muzima!',\n",
              " 'Ibintu tugomba gushyira mu mwanya wa mbere ni byo dushyira mu mwanya wa mbere',\n",
              " '........',\n",
              " \"Ni umunsi w'imvura\",\n",
              " 'Ni ko biri!Ibyo umuntu agomba kuba yujuje: Nikolaie.']"
            ]
          },
          "metadata": {},
          "execution_count": 13
        }
      ]
    },
    {
      "cell_type": "code",
      "source": [
        "translations"
      ],
      "metadata": {
        "colab": {
          "base_uri": "https://localhost:8080/"
        },
        "id": "W4d_gEV7OT_f",
        "outputId": "c4a3b1d9-be6e-4b63-8e99-cc7f4b22122b"
      },
      "execution_count": 9,
      "outputs": [
        {
          "output_type": "execute_result",
          "data": {
            "text/plain": [
              "['Jésus est vivant!',\n",
              " 'Mains sur les projets est notre priorité',\n",
              " \"Je n'ai rien.\",\n",
              " \"C'est un jour pluvieux\",\n",
              " \"C'est ce que c'est!': La légende Belise a dit un jour.\"]"
            ]
          },
          "metadata": {},
          "execution_count": 9
        }
      ]
    },
    {
      "cell_type": "code",
      "source": [
        "import json"
      ],
      "metadata": {
        "id": "vJXwrPPORze_"
      },
      "execution_count": 15,
      "outputs": []
    },
    {
      "cell_type": "code",
      "source": [
        "with open('/content/lang.json', 'r+') as file_lang:\n",
        "  content = file_lang.read()"
      ],
      "metadata": {
        "id": "RuTnc8GFTPkz"
      },
      "execution_count": 13,
      "outputs": []
    },
    {
      "cell_type": "code",
      "source": [
        "languages_json = json.loads(content)"
      ],
      "metadata": {
        "id": "xgmZ7-4XUAGp"
      },
      "execution_count": 16,
      "outputs": []
    },
    {
      "cell_type": "code",
      "source": [
        "languages_json[1]"
      ],
      "metadata": {
        "colab": {
          "base_uri": "https://localhost:8080/"
        },
        "id": "Uzn27UHxUJ-r",
        "outputId": "c9731984-219b-42c0-aef5-4e1466207954"
      },
      "execution_count": 21,
      "outputs": [
        {
          "output_type": "execute_result",
          "data": {
            "text/plain": [
              "{'code': 'aa', 'name': 'Afar'}"
            ]
          },
          "metadata": {},
          "execution_count": 21
        }
      ]
    },
    {
      "cell_type": "code",
      "source": [
        "languages_json[1]['code']"
      ],
      "metadata": {
        "colab": {
          "base_uri": "https://localhost:8080/",
          "height": 36
        },
        "id": "GV_x7Z_cWD0d",
        "outputId": "4eec81de-0f31-4a1f-c5be-4ec461df83bc"
      },
      "execution_count": 20,
      "outputs": [
        {
          "output_type": "execute_result",
          "data": {
            "text/plain": [
              "'aa'"
            ],
            "application/vnd.google.colaboratory.intrinsic+json": {
              "type": "string"
            }
          },
          "metadata": {},
          "execution_count": 20
        }
      ]
    },
    {
      "cell_type": "code",
      "source": [
        "len(languages_json)"
      ],
      "metadata": {
        "colab": {
          "base_uri": "https://localhost:8080/"
        },
        "id": "FsLBZVYkXkIR",
        "outputId": "c40bc389-3aca-4a66-d52a-bd9c3b23a0ec"
      },
      "execution_count": 23,
      "outputs": [
        {
          "output_type": "execute_result",
          "data": {
            "text/plain": [
              "184"
            ]
          },
          "metadata": {},
          "execution_count": 23
        }
      ]
    },
    {
      "cell_type": "code",
      "source": [
        "import pandas as pd"
      ],
      "metadata": {
        "id": "_VGmMjl3Z7Ok"
      },
      "execution_count": 1,
      "outputs": []
    },
    {
      "cell_type": "code",
      "source": [
        "df = pd.DataFrame()"
      ],
      "metadata": {
        "id": "KLWKjWhqbPhb"
      },
      "execution_count": 3,
      "outputs": []
    },
    {
      "cell_type": "code",
      "source": [
        "rw_sentences = [\n",
        "    'Umwana Murizi ntakurwa urutozi!',\n",
        "    'Serupyipyinyurimpyisi yansyonyoye',\n",
        "    'Sakwe Sakwe; Sogokuru aryoha aboze',\n",
        "    'Amategeko y abanebwe.'\n",
        "]"
      ],
      "metadata": {
        "id": "A6PaKFWZbkM_"
      },
      "execution_count": 6,
      "outputs": []
    },
    {
      "cell_type": "code",
      "source": [
        "df['english'] = sentences[:4]"
      ],
      "metadata": {
        "id": "4E0blNVSbTfY"
      },
      "execution_count": 30,
      "outputs": []
    },
    {
      "cell_type": "code",
      "source": [
        "df"
      ],
      "metadata": {
        "id": "pPvfcXtudpL4"
      },
      "execution_count": null,
      "outputs": []
    },
    {
      "cell_type": "code",
      "source": [
        "df"
      ],
      "metadata": {
        "colab": {
          "base_uri": "https://localhost:8080/",
          "height": 253
        },
        "id": "bK0NGer7claJ",
        "outputId": "eb21c57c-45fa-47f8-c1fd-e801106ecf01"
      },
      "execution_count": 31,
      "outputs": [
        {
          "output_type": "execute_result",
          "data": {
            "text/plain": [
              "                                   rw                         kinyarwanda  \\\n",
              "0     Umwana Murizi ntakurwa urutozi!     Umwana Murizi ntakurwa urutozi!   \n",
              "1   Serupyipyinyurimpyisi yansyonyoye   Serupyipyinyurimpyisi yansyonyoye   \n",
              "2  Sakwe Sakwe; Sogokuru aryoha aboze  Sakwe Sakwe; Sogokuru aryoha aboze   \n",
              "3               Amategeko y abanebwe.               Amategeko y abanebwe.   \n",
              "\n",
              "                             english  \n",
              "0                    Jesus is alive!  \n",
              "1  Hands on projects is our priority  \n",
              "2              I don't have anything  \n",
              "3                  It is a rainy day  "
            ],
            "text/html": [
              "\n",
              "  <div id=\"df-65395ba3-8d29-4a00-b34f-e2cc5df69c7b\">\n",
              "    <div class=\"colab-df-container\">\n",
              "      <div>\n",
              "<style scoped>\n",
              "    .dataframe tbody tr th:only-of-type {\n",
              "        vertical-align: middle;\n",
              "    }\n",
              "\n",
              "    .dataframe tbody tr th {\n",
              "        vertical-align: top;\n",
              "    }\n",
              "\n",
              "    .dataframe thead th {\n",
              "        text-align: right;\n",
              "    }\n",
              "</style>\n",
              "<table border=\"1\" class=\"dataframe\">\n",
              "  <thead>\n",
              "    <tr style=\"text-align: right;\">\n",
              "      <th></th>\n",
              "      <th>rw</th>\n",
              "      <th>kinyarwanda</th>\n",
              "      <th>english</th>\n",
              "    </tr>\n",
              "  </thead>\n",
              "  <tbody>\n",
              "    <tr>\n",
              "      <th>0</th>\n",
              "      <td>Umwana Murizi ntakurwa urutozi!</td>\n",
              "      <td>Umwana Murizi ntakurwa urutozi!</td>\n",
              "      <td>Jesus is alive!</td>\n",
              "    </tr>\n",
              "    <tr>\n",
              "      <th>1</th>\n",
              "      <td>Serupyipyinyurimpyisi yansyonyoye</td>\n",
              "      <td>Serupyipyinyurimpyisi yansyonyoye</td>\n",
              "      <td>Hands on projects is our priority</td>\n",
              "    </tr>\n",
              "    <tr>\n",
              "      <th>2</th>\n",
              "      <td>Sakwe Sakwe; Sogokuru aryoha aboze</td>\n",
              "      <td>Sakwe Sakwe; Sogokuru aryoha aboze</td>\n",
              "      <td>I don't have anything</td>\n",
              "    </tr>\n",
              "    <tr>\n",
              "      <th>3</th>\n",
              "      <td>Amategeko y abanebwe.</td>\n",
              "      <td>Amategeko y abanebwe.</td>\n",
              "      <td>It is a rainy day</td>\n",
              "    </tr>\n",
              "  </tbody>\n",
              "</table>\n",
              "</div>\n",
              "      <button class=\"colab-df-convert\" onclick=\"convertToInteractive('df-65395ba3-8d29-4a00-b34f-e2cc5df69c7b')\"\n",
              "              title=\"Convert this dataframe to an interactive table.\"\n",
              "              style=\"display:none;\">\n",
              "        \n",
              "  <svg xmlns=\"http://www.w3.org/2000/svg\" height=\"24px\"viewBox=\"0 0 24 24\"\n",
              "       width=\"24px\">\n",
              "    <path d=\"M0 0h24v24H0V0z\" fill=\"none\"/>\n",
              "    <path d=\"M18.56 5.44l.94 2.06.94-2.06 2.06-.94-2.06-.94-.94-2.06-.94 2.06-2.06.94zm-11 1L8.5 8.5l.94-2.06 2.06-.94-2.06-.94L8.5 2.5l-.94 2.06-2.06.94zm10 10l.94 2.06.94-2.06 2.06-.94-2.06-.94-.94-2.06-.94 2.06-2.06.94z\"/><path d=\"M17.41 7.96l-1.37-1.37c-.4-.4-.92-.59-1.43-.59-.52 0-1.04.2-1.43.59L10.3 9.45l-7.72 7.72c-.78.78-.78 2.05 0 2.83L4 21.41c.39.39.9.59 1.41.59.51 0 1.02-.2 1.41-.59l7.78-7.78 2.81-2.81c.8-.78.8-2.07 0-2.86zM5.41 20L4 18.59l7.72-7.72 1.47 1.35L5.41 20z\"/>\n",
              "  </svg>\n",
              "      </button>\n",
              "      \n",
              "  <style>\n",
              "    .colab-df-container {\n",
              "      display:flex;\n",
              "      flex-wrap:wrap;\n",
              "      gap: 12px;\n",
              "    }\n",
              "\n",
              "    .colab-df-convert {\n",
              "      background-color: #E8F0FE;\n",
              "      border: none;\n",
              "      border-radius: 50%;\n",
              "      cursor: pointer;\n",
              "      display: none;\n",
              "      fill: #1967D2;\n",
              "      height: 32px;\n",
              "      padding: 0 0 0 0;\n",
              "      width: 32px;\n",
              "    }\n",
              "\n",
              "    .colab-df-convert:hover {\n",
              "      background-color: #E2EBFA;\n",
              "      box-shadow: 0px 1px 2px rgba(60, 64, 67, 0.3), 0px 1px 3px 1px rgba(60, 64, 67, 0.15);\n",
              "      fill: #174EA6;\n",
              "    }\n",
              "\n",
              "    [theme=dark] .colab-df-convert {\n",
              "      background-color: #3B4455;\n",
              "      fill: #D2E3FC;\n",
              "    }\n",
              "\n",
              "    [theme=dark] .colab-df-convert:hover {\n",
              "      background-color: #434B5C;\n",
              "      box-shadow: 0px 1px 3px 1px rgba(0, 0, 0, 0.15);\n",
              "      filter: drop-shadow(0px 1px 2px rgba(0, 0, 0, 0.3));\n",
              "      fill: #FFFFFF;\n",
              "    }\n",
              "  </style>\n",
              "\n",
              "      <script>\n",
              "        const buttonEl =\n",
              "          document.querySelector('#df-65395ba3-8d29-4a00-b34f-e2cc5df69c7b button.colab-df-convert');\n",
              "        buttonEl.style.display =\n",
              "          google.colab.kernel.accessAllowed ? 'block' : 'none';\n",
              "\n",
              "        async function convertToInteractive(key) {\n",
              "          const element = document.querySelector('#df-65395ba3-8d29-4a00-b34f-e2cc5df69c7b');\n",
              "          const dataTable =\n",
              "            await google.colab.kernel.invokeFunction('convertToInteractive',\n",
              "                                                     [key], {});\n",
              "          if (!dataTable) return;\n",
              "\n",
              "          const docLinkHtml = 'Like what you see? Visit the ' +\n",
              "            '<a target=\"_blank\" href=https://colab.research.google.com/notebooks/data_table.ipynb>data table notebook</a>'\n",
              "            + ' to learn more about interactive tables.';\n",
              "          element.innerHTML = '';\n",
              "          dataTable['output_type'] = 'display_data';\n",
              "          await google.colab.output.renderOutput(dataTable, element);\n",
              "          const docLink = document.createElement('div');\n",
              "          docLink.innerHTML = docLinkHtml;\n",
              "          element.appendChild(docLink);\n",
              "        }\n",
              "      </script>\n",
              "    </div>\n",
              "  </div>\n",
              "  "
            ]
          },
          "metadata": {},
          "execution_count": 31
        }
      ]
    },
    {
      "cell_type": "code",
      "source": [
        "\n",
        "for language in languages_json[80:100]:\n",
        "  code = language['code']\n",
        "  try:\n",
        "    #Create new column with name as language code\n",
        "    df[code] = model.translate(df['english'], source_lang='en', target_lang=code)\n",
        "  except:\n",
        "    pass"
      ],
      "metadata": {
        "id": "43QKW1jkWWja"
      },
      "execution_count": null,
      "outputs": []
    },
    {
      "cell_type": "code",
      "source": [
        "df['english'] "
      ],
      "metadata": {
        "colab": {
          "base_uri": "https://localhost:8080/"
        },
        "id": "UVVcDcP9egXL",
        "outputId": "ac2de263-2704-4007-e368-945444e10f0c"
      },
      "execution_count": 39,
      "outputs": [
        {
          "output_type": "execute_result",
          "data": {
            "text/plain": [
              "0                      Jesus is alive!\n",
              "1    Hands on projects is our priority\n",
              "2                I don't have anything\n",
              "3                    It is a rainy day\n",
              "Name: english, dtype: object"
            ]
          },
          "metadata": {},
          "execution_count": 39
        }
      ]
    }
  ]
}