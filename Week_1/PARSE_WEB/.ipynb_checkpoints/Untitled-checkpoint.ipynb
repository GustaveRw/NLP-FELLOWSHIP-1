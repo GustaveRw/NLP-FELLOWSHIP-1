{
 "cells": [
  {
   "cell_type": "code",
   "execution_count": 1,
   "id": "a98dbae4",
   "metadata": {},
   "outputs": [],
   "source": [
    "import requests\n",
    "from bs4 import BeautifulSoup"
   ]
  },
  {
   "cell_type": "code",
   "execution_count": null,
   "id": "b41d946a",
   "metadata": {},
   "outputs": [],
   "source": [
    "#Get all the available captures since jan-2022"
   ]
  },
  {
   "cell_type": "code",
   "execution_count": null,
   "id": "719439b5",
   "metadata": {},
   "outputs": [],
   "source": []
  }
 ],
 "metadata": {
  "kernelspec": {
   "display_name": "Python 3 (ipykernel)",
   "language": "python",
   "name": "python3"
  },
  "language_info": {
   "codemirror_mode": {
    "name": "ipython",
    "version": 3
   },
   "file_extension": ".py",
   "mimetype": "text/x-python",
   "name": "python",
   "nbconvert_exporter": "python",
   "pygments_lexer": "ipython3",
   "version": "3.9.7"
  }
 },
 "nbformat": 4,
 "nbformat_minor": 5
}
